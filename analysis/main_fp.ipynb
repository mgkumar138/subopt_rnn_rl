{
 "cells": [
  {
   "cell_type": "markdown",
   "id": "4412b23a",
   "metadata": {},
   "source": [
    "### Load  data and plot learning curves"
   ]
  },
  {
   "cell_type": "markdown",
   "id": "d4e370ff",
   "metadata": {},
   "source": [
    "### Fig. 3, 4, 5"
   ]
  },
  {
   "cell_type": "markdown",
   "id": "6cbbe8dc",
   "metadata": {},
   "source": []
  }
 ],
 "metadata": {
  "language_info": {
   "name": "python"
  }
 },
 "nbformat": 4,
 "nbformat_minor": 5
}
