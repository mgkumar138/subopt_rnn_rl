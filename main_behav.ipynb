{
 "cells": [
  {
   "cell_type": "markdown",
   "id": "4412b23a",
   "metadata": {},
   "source": [
    "### Load behavior data and plot Fig. "
   ]
  },
  {
   "cell_type": "markdown",
   "id": "d4e370ff",
   "metadata": {},
   "source": [
    "### Fig. 1b, 1c, 2"
   ]
  },
  {
   "cell_type": "markdown",
   "id": "386c929a",
   "metadata": {},
   "source": []
  }
 ],
 "metadata": {
  "language_info": {
   "name": "python"
  }
 },
 "nbformat": 4,
 "nbformat_minor": 5
}
