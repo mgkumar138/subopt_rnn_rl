{
 "cells": [
  {
   "cell_type": "markdown",
   "id": "2abb136d",
   "metadata": {},
   "source": [
    "This code will reproduce the behavioral figures from the paper"
   ]
  },
  {
   "cell_type": "code",
   "execution_count": null,
   "id": "5e5324ce",
   "metadata": {
    "vscode": {
     "languageId": "plaintext"
    }
   },
   "outputs": [],
   "source": [
    "import utils_funcs, utils_fp, model_rnn, tasks\n"
   ]
  },
  {
   "cell_type": "markdown",
   "id": "a6e3cacb",
   "metadata": {},
   "source": [
    "### Sample behavior and RNN outputs\n",
    "\n",
    "From the pre-trained model weights, simulate agents (along a range of hyperparameters) and save their behavior and hidden unit outputs for analysis. "
   ]
  },
  {
   "cell_type": "code",
   "execution_count": null,
   "id": "b7118a31",
   "metadata": {
    "vscode": {
     "languageId": "markdown"
    }
   },
   "outputs": [],
   "source": [
    "!python sample_behavior.py\n",
    "\n",
    "#get out the behavior "
   ]
  },
  {
   "cell_type": "markdown",
   "id": "d4e370ff",
   "metadata": {},
   "source": [
    "### Fig. 1b, 1c\n",
    "Figure 1b and 1c take two example outputs from the RNN on both contexts in the sequential decision-making task. The behavior of the RNN-AC agent is shown with the γ hyperparameter at the low and high end of the range tested.\n",
    "\n",
    "First, we setup the plotting functions necessary, then run based on the paths to the desired model weights. "
   ]
  },
  {
   "cell_type": "code",
   "execution_count": null,
   "id": "f3238de1",
   "metadata": {
    "vscode": {
     "languageId": "plaintext"
    }
   },
   "outputs": [],
   "source": [
    "#plotting functions placeholder"
   ]
  },
  {
   "cell_type": "code",
   "execution_count": null,
   "id": "7f8d7d5d",
   "metadata": {
    "vscode": {
     "languageId": "plaintext"
    }
   },
   "outputs": [],
   "source": [
    "#call those plots with best and worst model path placeholder"
   ]
  },
  {
   "cell_type": "markdown",
   "id": "7207c37b",
   "metadata": {},
   "source": [
    "### Fig. 2a-d\n",
    "Figure 2 takes the difference between the curves shown in Fig. 1c, and uses it to represent overall performance of each agent. A range of values are tested for each hyperparameter. \n",
    "\n",
    "Again, we setup the plotting function. Then we pull the behavior of all of our agents from the output of sample_behavior.py. "
   ]
  },
  {
   "cell_type": "code",
   "execution_count": null,
   "id": "9c22b571",
   "metadata": {
    "vscode": {
     "languageId": "plaintext"
    }
   },
   "outputs": [],
   "source": [
    "\n",
    "#setup plotting function placeholder\n",
    "def plot_param_area(param, areas, xlabel, validms, logx=False, legend=False):\n",
    "\n",
    "    labels = ['CP', 'OB']\n",
    "    colors= ['orange', 'brown']\n",
    "\n",
    "    plt.figure(figsize=(3,2.5))\n",
    "    for c in range(2):\n",
    "        m,s = utils_funcs.get_mean_ci(areas[:,:,c],validms)\n",
    "\n",
    "        plt.plot(param, m, label=labels[c], color=colors[c])\n",
    "        plt.fill_between(x=param, y1=m-s, y2=m+s, alpha=0.2, color=colors[c])\n",
    "\n",
    "    dfarea = areas[:,:,0] - areas[:,:,1]\n",
    "    m,s = utils_funcs.get_mean_ci(dfarea,validms)\n",
    "    e = areas.shape[0]\n",
    "    plt.plot(param, m, label='CP-OB', color='k', linewidth=2)\n",
    "    plt.fill_between(x=param, y1=m-s, y2=m+s, alpha=0.2, color='k')\n",
    "    plt.xlabel(xlabel)\n",
    "    if legend:\n",
    "        plt.legend()\n",
    "    plt.ylabel('$A$')\n",
    "    if logx:\n",
    "        plt.xscale('log')\n",
    "    \n",
    "    plt.tight_layout()\n",
    "    plt.savefig(f'./analysis/{xlabel}_area_{e}e.png')\n",
    "    plt.savefig(f'./analysis/{xlabel}_area_{e}e.svg')\n"
   ]
  },
  {
   "cell_type": "code",
   "execution_count": null,
   "id": "88bd1c30",
   "metadata": {
    "vscode": {
     "languageId": "plaintext"
    }
   },
   "outputs": [],
   "source": [
    "#call relevant data and plotting\n",
    "\n"
   ]
  },
  {
   "cell_type": "markdown",
   "id": "b6ae51e3",
   "metadata": {},
   "source": [
    "### Fig 6\n",
    "\n",
    "Here, the data from Nassar et al., 2021 is replotted, with an emphasis on showing the difference between conditions at the tail ends of prediction error."
   ]
  },
  {
   "cell_type": "code",
   "execution_count": null,
   "id": "7fcc460a",
   "metadata": {
    "vscode": {
     "languageId": "plaintext"
    }
   },
   "outputs": [],
   "source": [
    "#call python file for plot 6\n",
    "\n",
    "!python generate_human_behav_fig6.py"
   ]
  }
 ],
 "metadata": {
  "language_info": {
   "name": "python"
  }
 },
 "nbformat": 4,
 "nbformat_minor": 5
}
