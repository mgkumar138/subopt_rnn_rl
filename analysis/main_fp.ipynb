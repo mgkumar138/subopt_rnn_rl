{
 "cells": [
  {
   "cell_type": "markdown",
   "id": "4412b23a",
   "metadata": {},
   "source": [
    "### Load  data and plot learning curves"
   ]
  },
  {
   "cell_type": "markdown",
   "id": "d4e370ff",
   "metadata": {},
   "source": [
    "### Fig. 3\n",
    "\n",
    "Fig 3 again uses optimal and sub-optimal agents as an example across both task conditions. Here, stable and unstable fixed points are shown across the principle components in the hidden units of the RNN"
   ]
  },
  {
   "cell_type": "code",
   "execution_count": null,
   "id": "10e2803f",
   "metadata": {
    "vscode": {
     "languageId": "plaintext"
    }
   },
   "outputs": [],
   "source": [
    "#plotting function placeholder"
   ]
  },
  {
   "cell_type": "code",
   "execution_count": null,
   "id": "a18cbd47",
   "metadata": {
    "vscode": {
     "languageId": "plaintext"
    }
   },
   "outputs": [],
   "source": [
    "#call that plot with good and bad model paths"
   ]
  },
  {
   "cell_type": "markdown",
   "id": "19761105",
   "metadata": {},
   "source": [
    "### Fig. 4 & Fig. 7\n",
    "\n",
    "Fig 4 summarizes the number of unstable fixed points along the range of hyperparameters. The two task conditions, and difference between them are shown (in the same manner as Δarea in fig 2). \n",
    "\n",
    "Fig 7 shows the same but for stable and \"all\" fixed points. "
   ]
  },
  {
   "cell_type": "code",
   "execution_count": null,
   "id": "c34529de",
   "metadata": {
    "vscode": {
     "languageId": "plaintext"
    }
   },
   "outputs": [],
   "source": [
    "#plotting function placeholder"
   ]
  },
  {
   "cell_type": "code",
   "execution_count": null,
   "id": "d56b8646",
   "metadata": {
    "vscode": {
     "languageId": "plaintext"
    }
   },
   "outputs": [],
   "source": [
    "#call for fig 4"
   ]
  },
  {
   "cell_type": "code",
   "execution_count": null,
   "id": "d339d7f8",
   "metadata": {
    "vscode": {
     "languageId": "plaintext"
    }
   },
   "outputs": [],
   "source": [
    "#call for fig 7"
   ]
  },
  {
   "cell_type": "markdown",
   "id": "ec54ebf1",
   "metadata": {},
   "source": [
    "### Fig. 5 and 8\n",
    "\n",
    "Figure 5 shows the correlation between unstable fixed points and Δ Area \n",
    "\n",
    "Figure 8 repeats this for stable and all fixed points. "
   ]
  },
  {
   "cell_type": "code",
   "execution_count": null,
   "id": "92da2c22",
   "metadata": {
    "vscode": {
     "languageId": "plaintext"
    }
   },
   "outputs": [],
   "source": [
    "#plotting function placeholder"
   ]
  },
  {
   "cell_type": "code",
   "execution_count": null,
   "id": "d9975ba5",
   "metadata": {
    "vscode": {
     "languageId": "plaintext"
    }
   },
   "outputs": [],
   "source": [
    "#call plots"
   ]
  },
  {
   "cell_type": "markdown",
   "id": "63bb9b8c",
   "metadata": {},
   "source": [
    "### Fig. 9\n",
    "\n"
   ]
  }
 ],
 "metadata": {
  "language_info": {
   "name": "python"
  }
 },
 "nbformat": 4,
 "nbformat_minor": 5
}
