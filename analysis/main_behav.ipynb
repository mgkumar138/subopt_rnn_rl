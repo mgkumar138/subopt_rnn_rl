{
 "cells": [
  {
   "cell_type": "markdown",
<<<<<<< HEAD
   "id": "2abb136d",
   "metadata": {},
   "source": [
    "This code will reproduce the behavioral figures from the paper"
   ]
  },
  {
   "cell_type": "markdown",
   "id": "a6e3cacb",
=======
   "id": "4412b23a",
>>>>>>> 2d38985 (added scripts to generate figs)
   "metadata": {},
   "source": [
    "### Load behavior data and plot Fig. "
   ]
  },
  {
   "cell_type": "markdown",
   "id": "d4e370ff",
   "metadata": {},
   "source": [
<<<<<<< HEAD
    "### Fig. 1b, 1c\n",
    "Figure 1b and 1c take two example outputs from the RNN on both contexts in the sequential decision-making task. The behavior of the RNN-AC agent is shown with the γ hyperparameter at the low and high end of the range tested.\n",
    "\n",
    "First, we setup the plotting functions necessary, then run based on the paths to the desired model weights. "
   ]
  },
  {
   "cell_type": "code",
   "execution_count": null,
   "id": "f3238de1",
   "metadata": {
    "vscode": {
     "languageId": "plaintext"
    }
   },
   "outputs": [],
   "source": [
    "#plotting functions placeholder"
   ]
  },
  {
   "cell_type": "code",
   "execution_count": null,
   "id": "7f8d7d5d",
   "metadata": {
    "vscode": {
     "languageId": "plaintext"
    }
   },
   "outputs": [],
   "source": [
    "#call those plots with best and worst model path placeholder"
=======
    "### Fig. 1b, 1c, 2"
>>>>>>> 2d38985 (added scripts to generate figs)
   ]
  },
  {
   "cell_type": "markdown",
<<<<<<< HEAD
   "id": "7207c37b",
   "metadata": {},
   "source": [
    "### Fig. 2a-d\n",
    "Figure 2 takes the difference between the curves shown in Fig. 1c, and uses it to represent overall performance of each agent. A range of values are tested for each hyperparameter. \n",
    "\n",
    "Again, we setup the plotting function. Then we pull the behavior of all of our agents from the output of sample_behavior.py. "
   ]
  },
  {
   "cell_type": "code",
   "execution_count": null,
   "id": "9c22b571",
   "metadata": {
    "vscode": {
     "languageId": "plaintext"
    }
   },
   "outputs": [],
   "source": [
    "#setup plotting function placeholder"
   ]
  },
  {
   "cell_type": "code",
   "execution_count": null,
   "id": "88bd1c30",
   "metadata": {
    "vscode": {
     "languageId": "plaintext"
    }
   },
   "outputs": [],
   "source": [
    "#call plotting function"
   ]
=======
   "id": "386c929a",
   "metadata": {},
   "source": []
>>>>>>> 2d38985 (added scripts to generate figs)
  }
 ],
 "metadata": {
  "language_info": {
   "name": "python"
  }
 },
 "nbformat": 4,
 "nbformat_minor": 5
}
