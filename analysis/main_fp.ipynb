{
 "cells": [
  {
   "cell_type": "markdown",
   "id": "4412b23a",
   "metadata": {},
   "source": [
    "### Load  data and plot learning curves\n",
    "\n",
    "We begin by loading the data made from sample_behavior.py\n"
   ]
  },
  {
   "cell_type": "code",
   "execution_count": null,
   "id": "111338ec",
   "metadata": {
    "vscode": {
     "languageId": "plaintext"
    }
   },
   "outputs": [],
   "source": [
    "import utils_funcs, utils_fp, model_rnn, tasks\n"
   ]
  },
  {
   "cell_type": "code",
   "execution_count": null,
   "id": "5c292813",
   "metadata": {
    "vscode": {
     "languageId": "plaintext"
    }
   },
   "outputs": [],
   "source": []
  },
  {
   "cell_type": "markdown",
   "id": "d4e370ff",
   "metadata": {},
   "source": [
    "### Fig. 3\n",
    "\n",
    "Fig 3 again uses optimal and sub-optimal agents as an example across both task conditions. Here, stable and unstable fixed points are shown across the principle components in the hidden units of the RNN"
   ]
  },
  {
   "cell_type": "code",
   "execution_count": null,
   "id": "10e2803f",
   "metadata": {
    "vscode": {
     "languageId": "plaintext"
    }
   },
   "outputs": [],
   "source": [
    "#plotting function placeholder"
   ]
  },
  {
   "cell_type": "code",
   "execution_count": null,
   "id": "a18cbd47",
   "metadata": {
    "vscode": {
     "languageId": "plaintext"
    }
   },
   "outputs": [],
   "source": [
    "#call that plot with good and bad model paths"
   ]
  },
  {
   "cell_type": "markdown",
   "id": "19761105",
   "metadata": {},
   "source": [
    "### Fig. 4 & Fig. 7\n",
    "\n",
    "Fig 4 summarizes the number of unstable fixed points along the range of hyperparameters. The two task conditions, and difference between them are shown (in the same manner as Δarea in fig 2). \n",
    "\n",
    "Fig 7 shows the same but for stable and \"all\" fixed points. "
   ]
  },
  {
   "cell_type": "code",
   "execution_count": null,
   "id": "d4681c8d",
   "metadata": {
    "vscode": {
     "languageId": "plaintext"
    }
   },
   "outputs": [],
   "source": [
    "#calc fixed points function\n",
    "\n",
    "def find_fixed_points(model, hidden_states, load_from_file = True, model_name=''):\n",
    "    stable_unstable_fps = np.zeros([len(contexts),3])\n",
    "    for context, context_name in enumerate(contexts):\n",
    "\n",
    "        NOISE_SCALE = 0.5  # Standard deviation of noise added to initial states\n",
    "\n",
    "        '''Fixed point finder hyperparameters. See FixedPointFinder.py for detailed\n",
    "        descriptions of available hyperparameters.'''\n",
    "        fpf_hps = {\n",
    "            'max_iters': 10000,\n",
    "            'lr_init': 1.,\n",
    "            'outlier_distance_scale': 10.0,\n",
    "            'verbose': False,\n",
    "            'super_verbose': False}\n",
    "\n",
    "        # Setup the fixed point finder\n",
    "        fpf = FixedPointFinderTorch(model.rnn, **fpf_hps)\n",
    "\n",
    "        initial_states = fpf.sample_states(hidden_states[context],\n",
    "        \tn_inits=N_INITS,\n",
    "        \tnoise_scale=NOISE_SCALE)\n",
    "\n",
    "        # Study the system in the absence of input pulses (e.g., all inputs are 0 except the context cue)\n",
    "        inputs = np.zeros((1, model.input_dim))\n",
    "        inputs[:, -3+context] = 1.0\n",
    "\n",
    "        # Run the fixed point finder\n",
    "        unique_fps, all_fps = fpf.find_fixed_points(initial_states, inputs)\n",
    "\n",
    "        # fp_fname = './saved_fp/unique_fps_context_{}_model_{}.pk'.format(context, model_name)\n",
    "        # if os.path.exists(fp_fname) and load_from_file:\n",
    "        #     with open(fp_fname, 'rb') as f:\n",
    "        #         unique_fps = pk.load(f)\n",
    "        # else:\n",
    "        #     unique_fps, all_fps = fpf.find_fixed_points(noisy_state_traj[0].copy(), inputs)\n",
    "        #     with open(fp_fname, 'wb') as f:\n",
    "        #         pk.dump(unique_fps, f)\n",
    "\n",
    "        # Visualize identified fixed points with overlaid RNN state trajectories\n",
    "        # All visualized in the 3D PCA space fit the the example RNN states.\n",
    "        stable_fp_cnt = 0\n",
    "        unstable_fp_cnt = 0\n",
    "        for i, fp in enumerate(unique_fps):\n",
    "            e_vals = fp.eigval_J_xstar[0]\n",
    "            is_stable = np.all(np.abs(e_vals) < 1.0)\n",
    "            if is_stable:\n",
    "                stable_fp_cnt += 1\n",
    "            else:\n",
    "                unstable_fp_cnt += 1\n",
    "\n",
    "        stable_unstable_fps[context] = np.array([stable_fp_cnt, unstable_fp_cnt, stable_fp_cnt+unstable_fp_cnt])\n",
    "    return stable_unstable_fps"
   ]
  },
  {
   "cell_type": "code",
   "execution_count": null,
   "id": "c34529de",
   "metadata": {
    "vscode": {
     "languageId": "plaintext"
    }
   },
   "outputs": [],
   "source": [
    "#plotting function placeholder\n",
    "\n",
    "def plot_param_fps(param, fps, xlabel, validms, logx=False, legend=False):\n",
    "\n",
    "    saveload(f'./analysis/{xlabel}_fps_{N_INITS}',[param, fps, validms], 'save')\n",
    "\n",
    "    labels = ['CP', 'OB']\n",
    "    colors= ['orange', 'brown']\n",
    "    markers = ['o','x','v']\n",
    "    markers=[None, None, None]\n",
    "    titles= ['Stable FPs', 'Unstable FPs', 'All FPs']\n",
    "    f,axs = plt.subplots(3,1,figsize=(3.5,2*3))\n",
    "\n",
    "    for i in range(3):\n",
    "\n",
    "        for c in range(2):\n",
    "            m,s = get_mean_ci(fps[:,:,c],validms)\n",
    "\n",
    "            axs[i].plot(param, m[:,i], label=labels[c], color=colors[c], marker=markers[i])\n",
    "            axs[i].fill_between(x=param, y1=m[:,i]-s[:,i], y2=m[:,i]+s[:,i], alpha=0.2, color=colors[c])\n",
    "        \n",
    "        axs[i].set_ylabel(titles[i])\n",
    "\n",
    "        ax2 = axs[i].twinx()\n",
    "        dffps = fps[:,:,0,i] - fps[:,:,1,i]\n",
    "        m,s = get_mean_ci(dffps,validms)\n",
    "        axs[i].plot([], [], label='CP-OB', color='k', marker=markers[i])\n",
    "        # axs[i].plot(param, m, label='CP-OB', color='k', marker=markers[i])\n",
    "        # axs[i].fill_between(x=param, y1=m-s, y2=m+s, alpha=0.2, color='k')\n",
    "\n",
    "\n",
    "        ax2.plot(param, m, label='CP-OB', color='k', marker=markers[i])\n",
    "        ax2.fill_between(x=param, y1=m-s, y2=m+s, alpha=0.2, color='k')\n",
    "        ax2.set_ylabel('$\\Delta$ FPs')\n",
    "\n",
    "    axs[-1].legend(fontsize=8)\n",
    "    axs[-1].set_xlabel(xlabel)\n",
    "    f.tight_layout()\n",
    "    f.savefig(f'./analysis/{xlabel}_fp_{n_trials*epochs}.png')\n",
    "    f.savefig(f'./analysis/{xlabel}_fp_{n_trials*epochs}.svg')\n"
   ]
  },
  {
   "cell_type": "code",
   "execution_count": null,
   "id": "d56b8646",
   "metadata": {
    "vscode": {
     "languageId": "plaintext"
    }
   },
   "outputs": [],
   "source": [
    "#call for fig 4"
   ]
  },
  {
   "cell_type": "code",
   "execution_count": null,
   "id": "d339d7f8",
   "metadata": {
    "vscode": {
     "languageId": "plaintext"
    }
   },
   "outputs": [],
   "source": [
    "#call for fig 7"
   ]
  },
  {
   "cell_type": "markdown",
   "id": "ec54ebf1",
   "metadata": {},
   "source": [
    "### Fig. 5 and 8\n",
    "\n",
    "Figure 5 shows the correlation between unstable fixed points and Δ Area \n",
    "\n",
    "Figure 8 repeats this for stable and all fixed points. "
   ]
  },
  {
   "cell_type": "code",
   "execution_count": null,
   "id": "92da2c22",
   "metadata": {
    "vscode": {
     "languageId": "plaintext"
    }
   },
   "outputs": [],
   "source": [
    "#plotting function placeholder"
   ]
  },
  {
   "cell_type": "code",
   "execution_count": null,
   "id": "d9975ba5",
   "metadata": {
    "vscode": {
     "languageId": "plaintext"
    }
   },
   "outputs": [],
   "source": [
    "#call plots"
   ]
  },
  {
   "cell_type": "markdown",
   "id": "63bb9b8c",
   "metadata": {},
   "source": [
    "### Fig. 9\n",
    "\n"
   ]
  }
 ],
 "metadata": {
  "language_info": {
   "name": "python"
  }
 },
 "nbformat": 4,
 "nbformat_minor": 5
}
